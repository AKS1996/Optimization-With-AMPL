{
 "cells": [
  {
   "cell_type": "markdown",
   "metadata": {},
   "source": [
    "## Modelling"
   ]
  },
  {
   "cell_type": "code",
   "execution_count": 1,
   "metadata": {},
   "outputs": [],
   "source": [
    "from __future__ import division\n",
    "from pyomo.environ import *\n",
    "from math import pi as PI\n",
    "from math import cos as COS\n",
    "from math import sin as SIN"
   ]
  },
  {
   "cell_type": "code",
   "execution_count": 2,
   "metadata": {},
   "outputs": [],
   "source": [
    "m = 10  # number of grid points\n",
    "K = 2   # problem dimensionality"
   ]
  },
  {
   "cell_type": "code",
   "execution_count": 3,
   "metadata": {},
   "outputs": [],
   "source": [
    "def solve(beta):\n",
    "    model = ConcreteModel()\n",
    "\n",
    "    # generic variables\n",
    "    model.z = Var(domain=Reals, initialize=0.05) # init with z=0 fails on 1st step. refer article\n",
    "    model.OBJ = Objective(expr = model.z, sense=minimize)\n",
    "\n",
    "    # problem specific variables\n",
    "    model.x1 = Var(domain=Reals, bounds=(0,PI))\n",
    "    model.x2 = Var(domain=Reals, bounds=(0,PI))\n",
    "    f = (model.x1, model.x2)     # multicriterion objective function\n",
    "\n",
    "    # add generic beta constraints\n",
    "    model.DIM = RangeSet(0,K-1)\n",
    "    def beta_constraint(model, i):\n",
    "        return model.z*beta[i] >= f[i]\n",
    "    model.beta_const = Constraint(model.DIM,rule=beta_constraint)\n",
    "\n",
    "    # add problem specific feasibility constraints\n",
    "    model.C1 = Constraint(expr = (model.x1-0.5)**2 + (model.x2-0.5)**2 <= 0.5)\n",
    "    model.C2 = Constraint(expr = model.x1**2 + model.x2**2 -1 -0.1*cos(16*atan(model.x1/model.x2))>= 0)\n",
    "    \n",
    "    # model.pprint()\n",
    "    \n",
    "    # solve on NEOS solver \n",
    "    solver_manager = SolverManagerFactory('neos')\n",
    "    results = solver_manager.solve(model, opt='knitro')\n",
    "    \n",
    "#     print(results)\n",
    "    \n",
    "    if results.solver.status == SolverStatus.ok and results.solver.termination_condition == TerminationCondition.optimal:\n",
    "        return value(model.OBJ)\n",
    "    elif results.solver.termination_condition == TerminationCondition.infeasible:\n",
    "        return 0\n",
    "    else:\n",
    "        return 0"
   ]
  },
  {
   "cell_type": "markdown",
   "metadata": {},
   "source": [
    "## Simulation"
   ]
  },
  {
   "cell_type": "code",
   "execution_count": 4,
   "metadata": {
    "scrolled": true
   },
   "outputs": [
    {
     "name": "stdout",
     "output_type": "stream",
     "text": [
      "ERROR: Error loading NEOS solution into model  NEOS log: Job 7623117\n",
      "    dispatched password: YXJIBGbk ---------- Begin Solver Output -----------\n",
      "    Condor submit: 'neos.submit' Condor submit: 'watchdog.submit' Job\n",
      "    submitted to NEOS HTCondor pool.\n",
      "ERROR: Knitro 11.1.0: Evaluation error.\n",
      "ERROR: objective 0; feasibility error 1\n",
      "ERROR: feaserror\n",
      "ERROR: opterror\n",
      "iter 0: z=0.000000\n",
      "iter 1: z=1.015333\n",
      "iter 2: z=0.958696\n",
      "iter 3: z=0.955448\n",
      "iter 4: z=0.976860\n",
      "iter 5: z=1.048809\n",
      "iter 6: z=1.015333\n",
      "iter 7: z=0.958696\n",
      "iter 8: z=0.958696\n",
      "iter 9: z=1.015333\n",
      "iter 10: z=1.048809\n"
     ]
    }
   ],
   "source": [
    "# do the simulation\n",
    "points = []\n",
    "\n",
    "for i in range(m+1): # 0,m inclusive\n",
    "    theta1 = (i*PI)/(4*m)\n",
    "    beta = (COS(theta1), SIN(theta1))\n",
    "    tmp = solve(beta)\n",
    "    print(\"iter %d: z=%f\" % (i,tmp))\n",
    "    points.append((tmp,beta))"
   ]
  },
  {
   "cell_type": "markdown",
   "metadata": {},
   "source": [
    "## Plotting result"
   ]
  },
  {
   "cell_type": "code",
   "execution_count": 6,
   "metadata": {},
   "outputs": [
    {
     "data": {
      "image/png": "[encoded data removed]",
      "text/plain": [
       "<Figure size 432x288 with 1 Axes>"
      ]
     },
     "metadata": {
      "needs_background": "light"
     },
     "output_type": "display_data"
    }
   ],
   "source": [
    "import matplotlib.pyplot as plt\n",
    "import matplotlib.patches as pat\n",
    "\n",
    "fig, ax = plt.subplots()\n",
    "ax.set_aspect('equal')\n",
    "\n",
    "# drawing the circle\n",
    "circle = pat.Wedge((0.5,0.5), 0.707,-45,135,color='grey')\n",
    "circle.set_clip_on(False)\n",
    "circle.set_alpha(0.3)\n",
    "ax.add_artist(circle)\n",
    "\n",
    "for z, beta in points:\n",
    "    if z > 0: # coz the function is symmetric\n",
    "        plt.scatter(z*beta[0], z*beta[1], color='black')\n",
    "        plt.scatter(z*beta[1], z*beta[0], color='black')\n",
    "plt.show()"
   ]
  }
 ],
 "metadata": {
  "kernelspec": {
   "display_name": "Python 3",
   "language": "python",
   "name": "python3"
  },
  "language_info": {
   "codemirror_mode": {
    "name": "ipython",
    "version": 3
   },
   "file_extension": ".py",
   "mimetype": "text/x-python",
   "name": "python",
   "nbconvert_exporter": "python",
   "pygments_lexer": "ipython3",
   "version": "3.7.3"
  }
 },
 "nbformat": 4,
 "nbformat_minor": 2
}
