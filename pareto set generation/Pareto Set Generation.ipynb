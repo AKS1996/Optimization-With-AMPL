{
 "cells": [
  {
   "cell_type": "markdown",
   "metadata": {},
   "source": [
    "# A new Pareto set generation method\n",
    "This notebook contains python implementation of the examples mentioned in the article `A new Pareto set generating method for multi-criteria optimization problems` by Debdas Ghosh and Debjani Chakraborty (DOI: https://doi.org/10.1016/j.orl.2014.08.011).\n",
    "\n",
    "This implementation uses [KNITRO](https://www.artelys.com/solvers/knitro/) solver on [NEOS server](https://neos-server.org/neos/solvers/index.html) and requires no additional setup other than an active internet connection."
   ]
  },
  {
   "cell_type": "markdown",
   "metadata": {},
   "source": [
    "## Installing dependencies\n",
    "You can skip this section if you've installed packages `pyomo` and `matplotlib`. Refer [this link](http://www.pyomo.org/installation) for `pyomo` third party dependencies."
   ]
  },
  {
   "cell_type": "code",
   "execution_count": null,
   "metadata": {},
   "outputs": [],
   "source": [
    "import sys\n",
    "!{sys.executable} -m pip install pyomo matplotlib"
   ]
  },
  {
   "cell_type": "markdown",
   "metadata": {},
   "source": [
    "## Simulation"
   ]
  },
  {
   "cell_type": "code",
   "execution_count": null,
   "metadata": {},
   "outputs": [],
   "source": [
    "from __future__ import division\n",
    "from pyomo.environ import *\n",
    "from math import pi as PI\n",
    "from math import cos as COS\n",
    "from math import sin as SIN"
   ]
  },
  {
   "cell_type": "code",
   "execution_count": null,
   "metadata": {},
   "outputs": [],
   "source": [
    "m = 10  # number of grid points\n",
    "K = 2   # problem dimensionality"
   ]
  },
  {
   "cell_type": "code",
   "execution_count": null,
   "metadata": {},
   "outputs": [],
   "source": [
    "def solve(beta):\n",
    "    model = ConcreteModel()\n",
    "\n",
    "    # generic variables\n",
    "    model.z = Var(domain=Reals, initialize=0.05) # init with z=0 fails on 1st step. refer article\n",
    "    model.OBJ = Objective(expr = model.z, sense=minimize)\n",
    "\n",
    "    # problem specific variables\n",
    "    model.x1 = Var(domain=Reals, bounds=(0,PI))\n",
    "    model.x2 = Var(domain=Reals, bounds=(0,PI))\n",
    "    f = (model.x1, model.x2)     # multicriterion objective function\n",
    "\n",
    "    # add generic beta constraints\n",
    "    model.DIM = RangeSet(0,K-1)\n",
    "    def beta_constraint(model, i):\n",
    "        return model.z*beta[i] >= f[i]\n",
    "    model.beta_const = Constraint(model.DIM,rule=beta_constraint)\n",
    "\n",
    "    # add problem specific feasibility constraints\n",
    "    model.C1 = Constraint(expr = (model.x1-0.5)**2 + (model.x2-0.5)**2 <= 0.5)\n",
    "    model.C2 = Constraint(expr = model.x1**2 + model.x2**2 -1 -0.1*cos(16*atan(model.x1/model.x2))>= 0)\n",
    "    \n",
    "    # model.pprint()\n",
    "    \n",
    "    # solve on NEOS solver \n",
    "    solver_manager = SolverManagerFactory('neos')\n",
    "    results = solver_manager.solve(model, opt='knitro')\n",
    "    \n",
    "#     print(results)\n",
    "    \n",
    "    if results.solver.status == SolverStatus.ok and results.solver.termination_condition == TerminationCondition.optimal:\n",
    "        return value(model.OBJ)\n",
    "    elif results.solver.termination_condition == TerminationCondition.infeasible:\n",
    "        return 0\n",
    "    else:\n",
    "        return 0"
   ]
  },
  {
   "cell_type": "code",
   "execution_count": null,
   "metadata": {
    "scrolled": true
   },
   "outputs": [],
   "source": [
    "# do the simulation\n",
    "points = []\n",
    "\n",
    "for i in range(m+1): # 0,m inclusive\n",
    "    theta1 = (i*PI)/(4*m)\n",
    "    beta = (COS(theta1), SIN(theta1))\n",
    "    tmp = solve(beta)\n",
    "    print(\"iter %d: z=%f\" % (i,tmp))\n",
    "    points.append((tmp,beta))"
   ]
  },
  {
   "cell_type": "markdown",
   "metadata": {},
   "source": [
    "## Analysing result"
   ]
  },
  {
   "cell_type": "code",
   "execution_count": null,
   "metadata": {},
   "outputs": [],
   "source": [
    "import matplotlib.pyplot as plt\n",
    "import matplotlib.patches as pat\n",
    "\n",
    "fig, ax = plt.subplots()\n",
    "ax.set_aspect('equal')\n",
    "\n",
    "# drawing the circle\n",
    "circle = pat.Wedge((0.5,0.5), 0.707,-45,135,color='grey')\n",
    "circle.set_clip_on(False)\n",
    "circle.set_alpha(0.3)\n",
    "ax.add_artist(circle)\n",
    "\n",
    "for z, beta in points:\n",
    "    if z > 0: # coz the function is symmetric\n",
    "        plt.scatter(z*beta[0], z*beta[1], color='black')\n",
    "        plt.scatter(z*beta[1], z*beta[0], color='black')\n",
    "plt.show()"
   ]
  }
 ],
 "metadata": {
  "kernelspec": {
   "display_name": "Python 3",
   "language": "python",
   "name": "python3"
  },
  "language_info": {
   "codemirror_mode": {
    "name": "ipython",
    "version": 3
   },
   "file_extension": ".py",
   "mimetype": "text/x-python",
   "name": "python",
   "nbconvert_exporter": "python",
   "pygments_lexer": "ipython3",
   "version": "3.7.3"
  }
 },
 "nbformat": 4,
 "nbformat_minor": 2
}
